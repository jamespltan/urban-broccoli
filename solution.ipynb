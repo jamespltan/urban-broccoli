{
 "cells": [
  {
   "cell_type": "code",
   "execution_count": 1,
   "id": "b4226e43-4f21-4f22-b508-636d88e88a1e",
   "metadata": {},
   "outputs": [],
   "source": [
    "from docplex.mp.model import Model\n",
    "from enum import Enum\n",
    "import numpy as np\n",
    "import seaborn as sns\n",
    "sns.set_style(\"darkgrid\")"
   ]
  },
  {
   "cell_type": "markdown",
   "id": "9597b226-7686-4e7f-a4a0-18a9dc37a580",
   "metadata": {},
   "source": [
    "# Data, Classes, Methods definitions"
   ]
  },
  {
   "cell_type": "code",
   "execution_count": 2,
   "id": "13b70306-9181-4610-b992-5ce9f542f8f2",
   "metadata": {},
   "outputs": [],
   "source": [
    "class Tutoring(Enum):\n",
    "    NORMAL = 1\n",
    "    EXTENSIVE = 2\n",
    "class TuitionCentre(Enum):\n",
    "    NORTH = 1\n",
    "    SOUTH = 2\n",
    "    EAST = 3\n",
    "    WEST = 4\n",
    "    CENTRAL = 5\n",
    "# Type A: min tutors. Type B: balance workload\n",
    "class ObjectiveType(Enum):\n",
    "    A = 1\n",
    "    B = 2"
   ]
  },
  {
   "cell_type": "code",
   "execution_count": 3,
   "id": "03deb61d-74e9-4e25-96c2-519018788a4d",
   "metadata": {},
   "outputs": [],
   "source": [
    "class Student:\n",
    "    def __init__(self, student_id, tutoring, centre):\n",
    "        self.id = student_id\n",
    "        self.tutoring = tutoring\n",
    "        self.centre = centre\n",
    "\n",
    "class Tutor:\n",
    "    def __init__(self, tutor_id, tutoring, preferred_centre, preferred_centre2, capacity):\n",
    "        self.id = tutor_id\n",
    "        self.tutoring = tutoring\n",
    "        self.preferred_centre = preferred_centre\n",
    "        self.preferred_centre2 = preferred_centre2\n",
    "        self.capacity = capacity\n",
    "        self.assigned_students = None\n",
    "\n",
    "class Problem:\n",
    "    def __init__(self, objective_type, preference_lb, preference_ub):\n",
    "        # combine new with active existing students\n",
    "        self.students = [\n",
    "            Student('S0001',Tutoring.NORMAL,TuitionCentre.EAST),\n",
    "            Student('S0002',Tutoring.NORMAL,TuitionCentre.WEST),\n",
    "            Student('S0003',Tutoring.NORMAL,TuitionCentre.CENTRAL),\n",
    "            Student('S0004',Tutoring.NORMAL,TuitionCentre.EAST),\n",
    "            Student('S0005',Tutoring.NORMAL,TuitionCentre.CENTRAL),\n",
    "            Student('S0006',Tutoring.EXTENSIVE,TuitionCentre.NORTH),\n",
    "            Student('S0007',Tutoring.NORMAL,TuitionCentre.EAST),\n",
    "            Student('S0008',Tutoring.NORMAL,TuitionCentre.CENTRAL),\n",
    "            Student('S0009',Tutoring.NORMAL,TuitionCentre.NORTH),\n",
    "            Student('S0010',Tutoring.NORMAL,TuitionCentre.WEST),\n",
    "            Student('S0011',Tutoring.EXTENSIVE,TuitionCentre.CENTRAL),\n",
    "            Student('S0012',Tutoring.NORMAL,TuitionCentre.WEST),\n",
    "            Student('S0013',Tutoring.NORMAL,TuitionCentre.WEST),\n",
    "            Student('S0014',Tutoring.NORMAL,TuitionCentre.NORTH),\n",
    "            Student('S0015',Tutoring.NORMAL,TuitionCentre.EAST),\n",
    "            Student('S0016',Tutoring.NORMAL,TuitionCentre.NORTH),\n",
    "            Student('S0017',Tutoring.NORMAL,TuitionCentre.NORTH),\n",
    "            Student('S0018',Tutoring.NORMAL,TuitionCentre.WEST),\n",
    "            Student('S0019',Tutoring.NORMAL,TuitionCentre.WEST),\n",
    "            Student('S0020',Tutoring.NORMAL,TuitionCentre.NORTH),\n",
    "            Student('S0036',Tutoring.NORMAL,TuitionCentre.CENTRAL),\n",
    "            Student('S0057',Tutoring.NORMAL,TuitionCentre.EAST),\n",
    "            Student('S0059',Tutoring.NORMAL,TuitionCentre.CENTRAL),\n",
    "            Student('S0061',Tutoring.NORMAL,TuitionCentre.CENTRAL),\n",
    "            Student('S0062',Tutoring.NORMAL,TuitionCentre.CENTRAL),\n",
    "            Student('S0086',Tutoring.EXTENSIVE,TuitionCentre.CENTRAL),\n",
    "            Student('S0088',Tutoring.NORMAL,TuitionCentre.CENTRAL),\n",
    "            Student('S0091',Tutoring.NORMAL,TuitionCentre.WEST),\n",
    "            Student('S0092',Tutoring.NORMAL,TuitionCentre.CENTRAL),\n",
    "            Student('S0093',Tutoring.EXTENSIVE,TuitionCentre.CENTRAL),\n",
    "            Student('S0110',Tutoring.NORMAL,TuitionCentre.CENTRAL),\n",
    "            Student('S0119',Tutoring.NORMAL,TuitionCentre.EAST)\n",
    "\n",
    "        ]\n",
    "        self.tutors = [\n",
    "            Tutor('A001', Tutoring.EXTENSIVE, TuitionCentre.EAST, TuitionCentre.NORTH, 8), \n",
    "            Tutor('A002', Tutoring.NORMAL, TuitionCentre.NORTH, TuitionCentre.EAST, 5), \n",
    "            Tutor('A003', Tutoring.NORMAL, TuitionCentre.WEST, TuitionCentre.NORTH, 5), \n",
    "            Tutor('A004', Tutoring.NORMAL, TuitionCentre.NORTH, TuitionCentre.EAST, 3), \n",
    "            Tutor('A005', Tutoring.NORMAL, TuitionCentre.NORTH, TuitionCentre.CENTRAL, 6), \n",
    "            Tutor('A006', Tutoring.EXTENSIVE, TuitionCentre.EAST, TuitionCentre.CENTRAL, 5), \n",
    "            Tutor('A007', Tutoring.NORMAL, TuitionCentre.EAST, TuitionCentre.NORTH, 8), \n",
    "            Tutor('A008', Tutoring.NORMAL, TuitionCentre.CENTRAL, TuitionCentre.WEST, 5), \n",
    "            Tutor('A009', Tutoring.EXTENSIVE, TuitionCentre.CENTRAL, TuitionCentre.NORTH, 4), \n",
    "            Tutor('A010', Tutoring.NORMAL, TuitionCentre.WEST, TuitionCentre.NORTH, 8)\n",
    "        ]\n",
    "        self.students_dict = dict([(s.id, s) for s in self.students])\n",
    "        self.tutors_dict = dict([(t.id, t) for t in self.tutors])\n",
    "        \n",
    "        m = Model(name=\"Optimizing Tuition Assignments\")\n",
    "        \n",
    "        # create decision variables\n",
    "        self.d_tutor_student = {}\n",
    "        self.d_student_tutor = {}\n",
    "        for tutor in self.tutors:\n",
    "            self.d_tutor_student[tutor.id] = {}\n",
    "            for student in self.students:\n",
    "                bin_var = m.binary_var(f\"{tutor.id}_{student.id}\")\n",
    "                self.d_tutor_student[tutor.id][student.id] = bin_var\n",
    "                if student.id not in self.d_student_tutor:\n",
    "                    self.d_student_tutor[student.id] = {}\n",
    "                self.d_student_tutor[student.id][tutor.id] = bin_var\n",
    "        self.d_tutor_centre = {}\n",
    "        for tutor in self.tutors:\n",
    "            self.d_tutor_centre[tutor.id] = {}\n",
    "            for centre in TuitionCentre:\n",
    "                self.d_tutor_centre[tutor.id][centre] = m.binary_var(f\"{tutor.id}_{centre.name}\")\n",
    "\n",
    "        # define constraints\n",
    "        #    tutor's capacity cannot be exceeded\n",
    "        for tutor_id, d_tutor_students in self.d_tutor_student.items():\n",
    "            tutor = self.tutors_dict[tutor_id]\n",
    "            m.add_constraint(m.sum(d_tutor_students.values()) <= tutor.capacity)\n",
    "        #    tutor cannot be assigned to more than one centre\n",
    "        for d_tutor_centres in self.d_tutor_centre.values():\n",
    "            m.add_constraint(m.sum(d_tutor_centres.values()) <= 1)\n",
    "        #    tutor must not be assigned to student from another centre\n",
    "        for tutor in self.tutors:\n",
    "            for student in self.students:\n",
    "                m.add_constraint(self.d_tutor_centre[tutor.id][student.centre] - self.d_tutor_student[tutor.id][student.id] >= 0)\n",
    "        #    tutor's and student's skill must be appropriate\n",
    "        for tutor in self.tutors:\n",
    "            for student in self.students:\n",
    "                if (student.tutoring == Tutoring.EXTENSIVE and tutor.tutoring == Tutoring.NORMAL):\n",
    "                    m.add_constraint(self.d_tutor_student[tutor.id][student.id] == 0)\n",
    "        #    student can only have one tutor\n",
    "        for d_student_tutors in self.d_student_tutor.values():\n",
    "            m.add_constraint(m.sum(d_student_tutors.values()) == 1)\n",
    "        #    average preference score must be within bounds\n",
    "        #    add points for preference: 0 for not in preferences, 1 for second preference, 2 for first preference   \n",
    "        preference_score = 0\n",
    "        for tutor in self.tutors:\n",
    "            for centre in TuitionCentre:\n",
    "                points = 0\n",
    "                if centre == tutor.preferred_centre:\n",
    "                    points = 2\n",
    "                elif centre == tutor.preferred_centre2:\n",
    "                    points = 1\n",
    "                else:\n",
    "                    continue\n",
    "                preference_score += self.d_tutor_centre[tutor.id][centre] * points\n",
    "        preference_score = preference_score / len(self.tutors)\n",
    "        self.preference_score = m.continuous_var(name=\"preference_score\")\n",
    "        m.add_constraint(self.preference_score == preference_score)\n",
    "        m.add_constraint(self.preference_score >= preference_lb)\n",
    "        m.add_constraint(self.preference_score <= preference_ub)\n",
    "\n",
    "        # define objective\n",
    "        obj = 0\n",
    "        #     minimize # of tutors assigned\n",
    "        if objective_type == ObjectiveType.A:\n",
    "            obj += m.sum([d for d_tutor_centres in self.d_tutor_centre.values() for d in d_tutor_centres.values()])\n",
    "        #     balance workload of tutors using mean absolute deviation\n",
    "        if objective_type == ObjectiveType.B:\n",
    "            average_workload = m.sum([d for d_tutor_student in self.d_tutor_student.values() for d in d_tutor_student.values()]) / len(self.tutors)\n",
    "            for tutor in self.tutors:\n",
    "                t1 = m.continuous_var(name=f\"t1_{tutor.id}\")\n",
    "                t2 = m.continuous_var(name=f\"t2_{tutor.id}\")\n",
    "                m.add_constraint(t1 - t2 == m.sum(self.d_tutor_student[tutor.id].values()) - average_workload)\n",
    "                obj += t1 + t2\n",
    "        m.minimize(obj)\n",
    "        self.m = m\n",
    "\n",
    "    def solve(self):\n",
    "        s = self.m.solve()\n",
    "        if s is None:\n",
    "            return False\n",
    "        else:\n",
    "            return True\n",
    "\n",
    "    def get_num_of_tutors_assigned(self):\n",
    "        return sum([d.solution_value for d_tutor_centres in self.d_tutor_centre.values() \n",
    "                                     for d in d_tutor_centres.values()])\n",
    "\n",
    "    def get_average_workload(self):\n",
    "        return sum([d.solution_value for d_tutor_students in self.d_tutor_student.values() \n",
    "                                     for d in d_tutor_students.values()]\n",
    "                  ) / len(self.tutors)\n",
    "    \n",
    "    def get_mad_workload(self):\n",
    "        workloads = [sum([d.solution_value for d in d_tutor_students.values()]) for d_tutor_students in self.d_tutor_student.values()]\n",
    "        return sum([abs(w - self.get_average_workload()) for w in workloads]) / len(self.tutors)\n",
    "\n",
    "    def get_preference_score(self):\n",
    "        return self.preference_score.solution_value\n",
    "    "
   ]
  },
  {
   "cell_type": "markdown",
   "id": "f82621fa-4f5e-4dc5-8a98-7de5de6bf4b2",
   "metadata": {},
   "source": [
    "# Task A"
   ]
  },
  {
   "cell_type": "markdown",
   "id": "5a660a5a-ce31-489c-980a-09d2cc8b4683",
   "metadata": {},
   "source": [
    "To minimize total number of tutors assigned while maximizing tutor’s preference on tuition centre."
   ]
  },
  {
   "cell_type": "code",
   "execution_count": 4,
   "id": "36579df6-85e5-4968-9f95-e8cdb8bcf80b",
   "metadata": {},
   "outputs": [],
   "source": [
    "# may take several minutes to run\n",
    "score_intervals = np.linspace(0, 2, num=8)\n",
    "xa = []\n",
    "ya = []\n",
    "for i in range(len(score_intervals)-1):\n",
    "    pl = score_intervals[i]\n",
    "    pu = score_intervals[i+1]\n",
    "    problem = Problem(ObjectiveType.A, pl, pu)\n",
    "    if not problem.solve():\n",
    "        continue\n",
    "    xa.append(problem.get_preference_score())\n",
    "    ya.append(problem.get_num_of_tutors_assigned())\n"
   ]
  },
  {
   "cell_type": "code",
   "execution_count": 5,
   "id": "af28e780-377a-4b37-b39e-205e2ddddd43",
   "metadata": {},
   "outputs": [
    {
     "data": {
      "image/png": "[encoded data removed]",
      "text/plain": [
       "<Figure size 640x480 with 1 Axes>"
      ]
     },
     "metadata": {},
     "output_type": "display_data"
    }
   ],
   "source": [
    "ax = sns.lineplot(x=xa, y=ya, marker=\"o\")\n",
    "ax.set(xlabel=\"Average Preference Score\", ylabel=\"# of Tutors Assigned\", title='Pareto Front');"
   ]
  },
  {
   "cell_type": "markdown",
   "id": "2d0db0fa-6f55-49f0-ab17-b1524bc5ffd3",
   "metadata": {},
   "source": [
    "This graph shows the Pareto Front of the optimization problem A, which is the set of Pareto efficient solutions where no improvement in one objective can be made without a degradation in the second objective. \n",
    "\n",
    "The results show the minimum number of tutors needed for a desired average preference score (0 = no tutors have what they want, 2 = all tutors have their first preference)"
   ]
  },
  {
   "cell_type": "markdown",
   "id": "f33e4404-c7bc-4ce3-ae0c-e9c9839f9e38",
   "metadata": {},
   "source": [
    "# Task B"
   ]
  },
  {
   "cell_type": "markdown",
   "id": "f733a53c-6652-4f9f-94a4-f085f5409ca6",
   "metadata": {},
   "source": [
    "To balance workload while maximizing tutors' preference on tuition centre."
   ]
  },
  {
   "cell_type": "code",
   "execution_count": 6,
   "id": "054d23aa-32e8-4d35-8ff7-9c6ec7d6cf0a",
   "metadata": {},
   "outputs": [],
   "source": [
    "# may take several minutes to run\n",
    "score_intervals = np.linspace(0, 2.0, num=8)\n",
    "xb = []\n",
    "yb = []\n",
    "for i in range(len(score_intervals)-1):\n",
    "    pl = score_intervals[i]\n",
    "    pu = score_intervals[i+1]\n",
    "    problem = Problem(ObjectiveType.B, pl, pu)\n",
    "    if not problem.solve():\n",
    "        continue\n",
    "    xb.append(problem.get_preference_score())\n",
    "    yb.append(problem.get_mad_workload())"
   ]
  },
  {
   "cell_type": "code",
   "execution_count": 7,
   "id": "05e797b7-5452-4726-a7f6-4420e5e683b9",
   "metadata": {},
   "outputs": [
    {
     "data": {
      "image/png": "[encoded data removed]",
      "text/plain": [
       "<Figure size 640x480 with 1 Axes>"
      ]
     },
     "metadata": {},
     "output_type": "display_data"
    }
   ],
   "source": [
    "ax = sns.lineplot(x=xb, y=yb, marker=\"o\")\n",
    "ax.set(xlabel=\"Average Preference Score\", ylabel=\"Mean Absolute Deviation Workload\", title='Pareto Front');"
   ]
  },
  {
   "cell_type": "markdown",
   "id": "6f6dd9ed-fdca-4bc6-8833-7f5ff3669c03",
   "metadata": {},
   "source": [
    "This graph shows the Pareto Front of the optimization problem B. \n",
    "\n",
    "The results show that we can achieve a high preference score of 1.5 with maximum work balance amongst the tutors. "
   ]
  }
 ],
 "metadata": {
  "kernelspec": {
   "display_name": "Python 3 (ipykernel)",
   "language": "python",
   "name": "python3"
  },
  "language_info": {
   "codemirror_mode": {
    "name": "ipython",
    "version": 3
   },
   "file_extension": ".py",
   "mimetype": "text/x-python",
   "name": "python",
   "nbconvert_exporter": "python",
   "pygments_lexer": "ipython3",
   "version": "3.11.9"
  }
 },
 "nbformat": 4,
 "nbformat_minor": 5
}
